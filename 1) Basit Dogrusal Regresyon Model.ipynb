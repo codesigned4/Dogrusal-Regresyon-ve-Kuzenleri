{
 "cells": [
  {
   "cell_type": "code",
   "execution_count": 231,
   "id": "98e4c40b-5a56-4a9b-bc3a-e7bbdb1da57e",
   "metadata": {},
   "outputs": [],
   "source": [
    "import pandas as pd\n",
    "\n",
    "ad=pd.read_csv(\"Advertising.csv\")\n",
    "df=ad.copy()\n",
    "df=df.iloc[:,1:len(df)] #indeksi değişken olarak gördüğü için  değiştirdik"
   ]
  },
  {
   "cell_type": "code",
   "execution_count": 232,
   "id": "b61194bb-d3f4-4e7c-b8cf-f53d3f47a0cf",
   "metadata": {},
   "outputs": [
    {
     "name": "stdout",
     "output_type": "stream",
     "text": [
      "<class 'pandas.core.frame.DataFrame'>\n",
      "RangeIndex: 200 entries, 0 to 199\n",
      "Data columns (total 4 columns):\n",
      " #   Column     Non-Null Count  Dtype  \n",
      "---  ------     --------------  -----  \n",
      " 0   TV         200 non-null    float64\n",
      " 1   radio      200 non-null    float64\n",
      " 2   newspaper  200 non-null    float64\n",
      " 3   sales      200 non-null    float64\n",
      "dtypes: float64(4)\n",
      "memory usage: 6.4 KB\n"
     ]
    }
   ],
   "source": [
    "df.info()"
   ]
  },
  {
   "cell_type": "code",
   "execution_count": 233,
   "id": "3a68b502-214f-4597-9953-85b9d7dff7f2",
   "metadata": {},
   "outputs": [
    {
     "data": {
      "text/html": [
       "<div>\n",
       "<style scoped>\n",
       "    .dataframe tbody tr th:only-of-type {\n",
       "        vertical-align: middle;\n",
       "    }\n",
       "\n",
       "    .dataframe tbody tr th {\n",
       "        vertical-align: top;\n",
       "    }\n",
       "\n",
       "    .dataframe thead th {\n",
       "        text-align: right;\n",
       "    }\n",
       "</style>\n",
       "<table border=\"1\" class=\"dataframe\">\n",
       "  <thead>\n",
       "    <tr style=\"text-align: right;\">\n",
       "      <th></th>\n",
       "      <th>count</th>\n",
       "      <th>mean</th>\n",
       "      <th>std</th>\n",
       "      <th>min</th>\n",
       "      <th>25%</th>\n",
       "      <th>50%</th>\n",
       "      <th>75%</th>\n",
       "      <th>max</th>\n",
       "    </tr>\n",
       "  </thead>\n",
       "  <tbody>\n",
       "    <tr>\n",
       "      <th>TV</th>\n",
       "      <td>200.0</td>\n",
       "      <td>147.0425</td>\n",
       "      <td>85.854236</td>\n",
       "      <td>0.7</td>\n",
       "      <td>74.375</td>\n",
       "      <td>149.75</td>\n",
       "      <td>218.825</td>\n",
       "      <td>296.4</td>\n",
       "    </tr>\n",
       "    <tr>\n",
       "      <th>radio</th>\n",
       "      <td>200.0</td>\n",
       "      <td>23.2640</td>\n",
       "      <td>14.846809</td>\n",
       "      <td>0.0</td>\n",
       "      <td>9.975</td>\n",
       "      <td>22.90</td>\n",
       "      <td>36.525</td>\n",
       "      <td>49.6</td>\n",
       "    </tr>\n",
       "    <tr>\n",
       "      <th>newspaper</th>\n",
       "      <td>200.0</td>\n",
       "      <td>30.5540</td>\n",
       "      <td>21.778621</td>\n",
       "      <td>0.3</td>\n",
       "      <td>12.750</td>\n",
       "      <td>25.75</td>\n",
       "      <td>45.100</td>\n",
       "      <td>114.0</td>\n",
       "    </tr>\n",
       "    <tr>\n",
       "      <th>sales</th>\n",
       "      <td>200.0</td>\n",
       "      <td>14.0225</td>\n",
       "      <td>5.217457</td>\n",
       "      <td>1.6</td>\n",
       "      <td>10.375</td>\n",
       "      <td>12.90</td>\n",
       "      <td>17.400</td>\n",
       "      <td>27.0</td>\n",
       "    </tr>\n",
       "  </tbody>\n",
       "</table>\n",
       "</div>"
      ],
      "text/plain": [
       "           count      mean        std  min     25%     50%      75%    max\n",
       "TV         200.0  147.0425  85.854236  0.7  74.375  149.75  218.825  296.4\n",
       "radio      200.0   23.2640  14.846809  0.0   9.975   22.90   36.525   49.6\n",
       "newspaper  200.0   30.5540  21.778621  0.3  12.750   25.75   45.100  114.0\n",
       "sales      200.0   14.0225   5.217457  1.6  10.375   12.90   17.400   27.0"
      ]
     },
     "execution_count": 233,
     "metadata": {},
     "output_type": "execute_result"
    }
   ],
   "source": [
    "df.describe().T"
   ]
  },
  {
   "cell_type": "code",
   "execution_count": 234,
   "id": "f7561def-d4a2-4047-9658-5569c3d9f72c",
   "metadata": {},
   "outputs": [
    {
     "data": {
      "text/plain": [
       "False"
      ]
     },
     "execution_count": 234,
     "metadata": {},
     "output_type": "execute_result"
    }
   ],
   "source": [
    "df.isnull().values.any() #return false o sebeple null değer yok demek"
   ]
  },
  {
   "cell_type": "code",
   "execution_count": 235,
   "id": "aabe9034-804f-42f6-a70d-37aafded31ae",
   "metadata": {},
   "outputs": [
    {
     "data": {
      "text/html": [
       "<div>\n",
       "<style scoped>\n",
       "    .dataframe tbody tr th:only-of-type {\n",
       "        vertical-align: middle;\n",
       "    }\n",
       "\n",
       "    .dataframe tbody tr th {\n",
       "        vertical-align: top;\n",
       "    }\n",
       "\n",
       "    .dataframe thead th {\n",
       "        text-align: right;\n",
       "    }\n",
       "</style>\n",
       "<table border=\"1\" class=\"dataframe\">\n",
       "  <thead>\n",
       "    <tr style=\"text-align: right;\">\n",
       "      <th></th>\n",
       "      <th>TV</th>\n",
       "      <th>radio</th>\n",
       "      <th>newspaper</th>\n",
       "      <th>sales</th>\n",
       "    </tr>\n",
       "  </thead>\n",
       "  <tbody>\n",
       "    <tr>\n",
       "      <th>TV</th>\n",
       "      <td>1.000000</td>\n",
       "      <td>0.054809</td>\n",
       "      <td>0.056648</td>\n",
       "      <td>0.782224</td>\n",
       "    </tr>\n",
       "    <tr>\n",
       "      <th>radio</th>\n",
       "      <td>0.054809</td>\n",
       "      <td>1.000000</td>\n",
       "      <td>0.354104</td>\n",
       "      <td>0.576223</td>\n",
       "    </tr>\n",
       "    <tr>\n",
       "      <th>newspaper</th>\n",
       "      <td>0.056648</td>\n",
       "      <td>0.354104</td>\n",
       "      <td>1.000000</td>\n",
       "      <td>0.228299</td>\n",
       "    </tr>\n",
       "    <tr>\n",
       "      <th>sales</th>\n",
       "      <td>0.782224</td>\n",
       "      <td>0.576223</td>\n",
       "      <td>0.228299</td>\n",
       "      <td>1.000000</td>\n",
       "    </tr>\n",
       "  </tbody>\n",
       "</table>\n",
       "</div>"
      ],
      "text/plain": [
       "                 TV     radio  newspaper     sales\n",
       "TV         1.000000  0.054809   0.056648  0.782224\n",
       "radio      0.054809  1.000000   0.354104  0.576223\n",
       "newspaper  0.056648  0.354104   1.000000  0.228299\n",
       "sales      0.782224  0.576223   0.228299  1.000000"
      ]
     },
     "execution_count": 235,
     "metadata": {},
     "output_type": "execute_result"
    }
   ],
   "source": [
    "df.corr() #Buradaki correlationu inceleyince TV ve sales arasında 0.7822 şeklinde bir ilişki göreceksin,bu yaklaşık %80 civarına denk geliyor,kuvvetli pozitif bir ilişki,yani TV harcamaları arttıkça satışlar da artacak demek \n",
    "#Diğerlerine de kısaca göz gezdirebilirsin\n",
    "#Şuan hiçbir model kurmadan bu üç değişkeni modellesem ve Sales değişkenini bağımlı değişken kabul etsem en anlanmı ve ilişki düzeyi en yüksek değişken TV değişkeni çıkacaktır"
   ]
  },
  {
   "cell_type": "code",
   "execution_count": 236,
   "id": "e6695e30-d84a-4690-b3c0-5765b62ad8ee",
   "metadata": {},
   "outputs": [
    {
     "data": {
      "text/plain": [
       "<seaborn.axisgrid.PairGrid at 0x244a2723e80>"
      ]
     },
     "execution_count": 236,
     "metadata": {},
     "output_type": "execute_result"
    },
    {
     "data": {
      "image/png": "[encoded data removed]",
      "text/plain": [
       "<Figure size 720x720 with 20 Axes>"
      ]
     },
     "metadata": {
      "needs_background": "light"
     },
     "output_type": "display_data"
    }
   ],
   "source": [
    "import seaborn as sns\n",
    "sns.pairplot(df,kind=\"reg\") #burada sales-TV  sales-Radio arasindaki ilişkiye odaklan ve buradaki eğimler şiddeti ifade eder eğim pozitif ve yüksekse küvevetli bir ilişki vardır"
   ]
  },
  {
   "cell_type": "code",
   "execution_count": 237,
   "id": "accce701-52d0-402e-8c78-fe7496b715af",
   "metadata": {},
   "outputs": [
    {
     "data": {
      "text/html": [
       "<div>\n",
       "<style scoped>\n",
       "    .dataframe tbody tr th:only-of-type {\n",
       "        vertical-align: middle;\n",
       "    }\n",
       "\n",
       "    .dataframe tbody tr th {\n",
       "        vertical-align: top;\n",
       "    }\n",
       "\n",
       "    .dataframe thead th {\n",
       "        text-align: right;\n",
       "    }\n",
       "</style>\n",
       "<table border=\"1\" class=\"dataframe\">\n",
       "  <thead>\n",
       "    <tr style=\"text-align: right;\">\n",
       "      <th></th>\n",
       "      <th>TV</th>\n",
       "    </tr>\n",
       "  </thead>\n",
       "  <tbody>\n",
       "    <tr>\n",
       "      <th>0</th>\n",
       "      <td>230.1</td>\n",
       "    </tr>\n",
       "    <tr>\n",
       "      <th>1</th>\n",
       "      <td>44.5</td>\n",
       "    </tr>\n",
       "    <tr>\n",
       "      <th>2</th>\n",
       "      <td>17.2</td>\n",
       "    </tr>\n",
       "    <tr>\n",
       "      <th>3</th>\n",
       "      <td>151.5</td>\n",
       "    </tr>\n",
       "    <tr>\n",
       "      <th>4</th>\n",
       "      <td>180.8</td>\n",
       "    </tr>\n",
       "  </tbody>\n",
       "</table>\n",
       "</div>"
      ],
      "text/plain": [
       "      TV\n",
       "0  230.1\n",
       "1   44.5\n",
       "2   17.2\n",
       "3  151.5\n",
       "4  180.8"
      ]
     },
     "execution_count": 237,
     "metadata": {},
     "output_type": "execute_result"
    }
   ],
   "source": [
    "X=df[[\"TV\"]]\n",
    "X[0:5]\n"
   ]
  },
  {
   "cell_type": "markdown",
   "id": "4b2e6e6d-7af9-490d-a7a6-add5100f239e",
   "metadata": {},
   "source": [
    "**Stats Model İle Modelleme**"
   ]
  },
  {
   "cell_type": "code",
   "execution_count": 238,
   "id": "9e982d72-81ed-4705-ae0e-4cd10b4584f4",
   "metadata": {},
   "outputs": [
    {
     "data": {
      "text/html": [
       "<div>\n",
       "<style scoped>\n",
       "    .dataframe tbody tr th:only-of-type {\n",
       "        vertical-align: middle;\n",
       "    }\n",
       "\n",
       "    .dataframe tbody tr th {\n",
       "        vertical-align: top;\n",
       "    }\n",
       "\n",
       "    .dataframe thead th {\n",
       "        text-align: right;\n",
       "    }\n",
       "</style>\n",
       "<table border=\"1\" class=\"dataframe\">\n",
       "  <thead>\n",
       "    <tr style=\"text-align: right;\">\n",
       "      <th></th>\n",
       "      <th>TV</th>\n",
       "    </tr>\n",
       "  </thead>\n",
       "  <tbody>\n",
       "    <tr>\n",
       "      <th>0</th>\n",
       "      <td>230.1</td>\n",
       "    </tr>\n",
       "    <tr>\n",
       "      <th>1</th>\n",
       "      <td>44.5</td>\n",
       "    </tr>\n",
       "    <tr>\n",
       "      <th>2</th>\n",
       "      <td>17.2</td>\n",
       "    </tr>\n",
       "    <tr>\n",
       "      <th>3</th>\n",
       "      <td>151.5</td>\n",
       "    </tr>\n",
       "    <tr>\n",
       "      <th>4</th>\n",
       "      <td>180.8</td>\n",
       "    </tr>\n",
       "  </tbody>\n",
       "</table>\n",
       "</div>"
      ],
      "text/plain": [
       "      TV\n",
       "0  230.1\n",
       "1   44.5\n",
       "2   17.2\n",
       "3  151.5\n",
       "4  180.8"
      ]
     },
     "execution_count": 238,
     "metadata": {},
     "output_type": "execute_result"
    }
   ],
   "source": [
    "import statsmodels.api as sm #sciketlearn learn yerine statsmodels.api import etme sebebimiz:bunun çok daha fazla istatistiksel donanımı olması \n",
    "#bunla sciketlearn bir değil\n",
    "X[0:5]"
   ]
  },
  {
   "cell_type": "code",
   "execution_count": 239,
   "id": "da081435-01a6-41d4-84d0-77e53dd4fca8",
   "metadata": {},
   "outputs": [
    {
     "name": "stderr",
     "output_type": "stream",
     "text": [
      "c:\\users\\erkan\\appdata\\local\\programs\\python\\python39\\lib\\site-packages\\statsmodels\\tsa\\tsatools.py:142: FutureWarning: In a future version of pandas all arguments of concat except for the argument 'objs' will be keyword-only\n",
      "  x = pd.concat(x[::order], 1)\n"
     ]
    }
   ],
   "source": [
    "X=sm.add_constant(X) #Elimizde tek değişkenden oluşan TV matrisi var matris işlemleri gerçekleştirmek için bunu yapıyoruz,çok teknik detaya gerek yok\n"
   ]
  },
  {
   "cell_type": "code",
   "execution_count": 240,
   "id": "5e32a14b-985c-478f-a2fa-8964b6dab03d",
   "metadata": {},
   "outputs": [
    {
     "data": {
      "text/html": [
       "<div>\n",
       "<style scoped>\n",
       "    .dataframe tbody tr th:only-of-type {\n",
       "        vertical-align: middle;\n",
       "    }\n",
       "\n",
       "    .dataframe tbody tr th {\n",
       "        vertical-align: top;\n",
       "    }\n",
       "\n",
       "    .dataframe thead th {\n",
       "        text-align: right;\n",
       "    }\n",
       "</style>\n",
       "<table border=\"1\" class=\"dataframe\">\n",
       "  <thead>\n",
       "    <tr style=\"text-align: right;\">\n",
       "      <th></th>\n",
       "      <th>const</th>\n",
       "      <th>TV</th>\n",
       "    </tr>\n",
       "  </thead>\n",
       "  <tbody>\n",
       "    <tr>\n",
       "      <th>0</th>\n",
       "      <td>1.0</td>\n",
       "      <td>230.1</td>\n",
       "    </tr>\n",
       "    <tr>\n",
       "      <th>1</th>\n",
       "      <td>1.0</td>\n",
       "      <td>44.5</td>\n",
       "    </tr>\n",
       "    <tr>\n",
       "      <th>2</th>\n",
       "      <td>1.0</td>\n",
       "      <td>17.2</td>\n",
       "    </tr>\n",
       "    <tr>\n",
       "      <th>3</th>\n",
       "      <td>1.0</td>\n",
       "      <td>151.5</td>\n",
       "    </tr>\n",
       "    <tr>\n",
       "      <th>4</th>\n",
       "      <td>1.0</td>\n",
       "      <td>180.8</td>\n",
       "    </tr>\n",
       "  </tbody>\n",
       "</table>\n",
       "</div>"
      ],
      "text/plain": [
       "   const     TV\n",
       "0    1.0  230.1\n",
       "1    1.0   44.5\n",
       "2    1.0   17.2\n",
       "3    1.0  151.5\n",
       "4    1.0  180.8"
      ]
     },
     "execution_count": 240,
     "metadata": {},
     "output_type": "execute_result"
    }
   ],
   "source": [
    "X[0:5] #Artık bağımsız değişkenimiz hazır"
   ]
  },
  {
   "cell_type": "code",
   "execution_count": 241,
   "id": "7a40a7ec-8e3f-44fd-b597-1a7eacf14879",
   "metadata": {},
   "outputs": [],
   "source": [
    "y=df[\"sales\"]"
   ]
  },
  {
   "cell_type": "code",
   "execution_count": 242,
   "id": "22cfad38-52be-428c-8714-e7c46ed25427",
   "metadata": {},
   "outputs": [
    {
     "data": {
      "text/plain": [
       "0    22.1\n",
       "1    10.4\n",
       "2     9.3\n",
       "3    18.5\n",
       "4    12.9\n",
       "Name: sales, dtype: float64"
      ]
     },
     "execution_count": 242,
     "metadata": {},
     "output_type": "execute_result"
    }
   ],
   "source": [
    "y[0:5]"
   ]
  },
  {
   "cell_type": "code",
   "execution_count": 243,
   "id": "7c78ba1b-c259-42d6-aaab-0aaa2d013c36",
   "metadata": {},
   "outputs": [],
   "source": [
    "lm=sm.OLS(y,X) #lm =linear model OOP anlamında intialize işlemi gerçekleştirdik"
   ]
  },
  {
   "cell_type": "code",
   "execution_count": 301,
   "id": "17d932f9-62b4-45fa-8c93-c37ceca566f3",
   "metadata": {},
   "outputs": [],
   "source": [
    "model=lm.fit()"
   ]
  },
  {
   "cell_type": "code",
   "execution_count": 245,
   "id": "20e559f0-c762-40fc-945e-a060d4b370b9",
   "metadata": {},
   "outputs": [
    {
     "data": {
      "text/html": [
       "<table class=\"simpletable\">\n",
       "<caption>OLS Regression Results</caption>\n",
       "<tr>\n",
       "  <th>Dep. Variable:</th>          <td>sales</td>      <th>  R-squared:         </th> <td>   0.612</td>\n",
       "</tr>\n",
       "<tr>\n",
       "  <th>Model:</th>                   <td>OLS</td>       <th>  Adj. R-squared:    </th> <td>   0.610</td>\n",
       "</tr>\n",
       "<tr>\n",
       "  <th>Method:</th>             <td>Least Squares</td>  <th>  F-statistic:       </th> <td>   312.1</td>\n",
       "</tr>\n",
       "<tr>\n",
       "  <th>Date:</th>             <td>Fri, 17 Sep 2021</td> <th>  Prob (F-statistic):</th> <td>1.47e-42</td>\n",
       "</tr>\n",
       "<tr>\n",
       "  <th>Time:</th>                 <td>10:00:53</td>     <th>  Log-Likelihood:    </th> <td> -519.05</td>\n",
       "</tr>\n",
       "<tr>\n",
       "  <th>No. Observations:</th>      <td>   200</td>      <th>  AIC:               </th> <td>   1042.</td>\n",
       "</tr>\n",
       "<tr>\n",
       "  <th>Df Residuals:</th>          <td>   198</td>      <th>  BIC:               </th> <td>   1049.</td>\n",
       "</tr>\n",
       "<tr>\n",
       "  <th>Df Model:</th>              <td>     1</td>      <th>                     </th>     <td> </td>   \n",
       "</tr>\n",
       "<tr>\n",
       "  <th>Covariance Type:</th>      <td>nonrobust</td>    <th>                     </th>     <td> </td>   \n",
       "</tr>\n",
       "</table>\n",
       "<table class=\"simpletable\">\n",
       "<tr>\n",
       "    <td></td>       <th>coef</th>     <th>std err</th>      <th>t</th>      <th>P>|t|</th>  <th>[0.025</th>    <th>0.975]</th>  \n",
       "</tr>\n",
       "<tr>\n",
       "  <th>const</th> <td>    7.0326</td> <td>    0.458</td> <td>   15.360</td> <td> 0.000</td> <td>    6.130</td> <td>    7.935</td>\n",
       "</tr>\n",
       "<tr>\n",
       "  <th>TV</th>    <td>    0.0475</td> <td>    0.003</td> <td>   17.668</td> <td> 0.000</td> <td>    0.042</td> <td>    0.053</td>\n",
       "</tr>\n",
       "</table>\n",
       "<table class=\"simpletable\">\n",
       "<tr>\n",
       "  <th>Omnibus:</th>       <td> 0.531</td> <th>  Durbin-Watson:     </th> <td>   1.935</td>\n",
       "</tr>\n",
       "<tr>\n",
       "  <th>Prob(Omnibus):</th> <td> 0.767</td> <th>  Jarque-Bera (JB):  </th> <td>   0.669</td>\n",
       "</tr>\n",
       "<tr>\n",
       "  <th>Skew:</th>          <td>-0.089</td> <th>  Prob(JB):          </th> <td>   0.716</td>\n",
       "</tr>\n",
       "<tr>\n",
       "  <th>Kurtosis:</th>      <td> 2.779</td> <th>  Cond. No.          </th> <td>    338.</td>\n",
       "</tr>\n",
       "</table><br/><br/>Notes:<br/>[1] Standard Errors assume that the covariance matrix of the errors is correctly specified."
      ],
      "text/plain": [
       "<class 'statsmodels.iolib.summary.Summary'>\n",
       "\"\"\"\n",
       "                            OLS Regression Results                            \n",
       "==============================================================================\n",
       "Dep. Variable:                  sales   R-squared:                       0.612\n",
       "Model:                            OLS   Adj. R-squared:                  0.610\n",
       "Method:                 Least Squares   F-statistic:                     312.1\n",
       "Date:                Fri, 17 Sep 2021   Prob (F-statistic):           1.47e-42\n",
       "Time:                        10:00:53   Log-Likelihood:                -519.05\n",
       "No. Observations:                 200   AIC:                             1042.\n",
       "Df Residuals:                     198   BIC:                             1049.\n",
       "Df Model:                           1                                         \n",
       "Covariance Type:            nonrobust                                         \n",
       "==============================================================================\n",
       "                 coef    std err          t      P>|t|      [0.025      0.975]\n",
       "------------------------------------------------------------------------------\n",
       "const          7.0326      0.458     15.360      0.000       6.130       7.935\n",
       "TV             0.0475      0.003     17.668      0.000       0.042       0.053\n",
       "==============================================================================\n",
       "Omnibus:                        0.531   Durbin-Watson:                   1.935\n",
       "Prob(Omnibus):                  0.767   Jarque-Bera (JB):                0.669\n",
       "Skew:                          -0.089   Prob(JB):                        0.716\n",
       "Kurtosis:                       2.779   Cond. No.                         338.\n",
       "==============================================================================\n",
       "\n",
       "Notes:\n",
       "[1] Standard Errors assume that the covariance matrix of the errors is correctly specified.\n",
       "\"\"\""
      ]
     },
     "execution_count": 245,
     "metadata": {},
     "output_type": "execute_result"
    }
   ],
   "source": [
    "model.summary() #R-squared:açıklanabilirlik oranıdır\n",
    "                #Adj. R-squared:düzeltilmiş R2 değeri daha düzgün bir değerdir\n",
    "                #Adj. R-squared:\t0.610 modelin %60 ını açıklayabiliyor demek\n",
    "                #F-statistic:\t modelin anlamlılık değeri\n",
    "            "
   ]
  },
  {
   "cell_type": "code",
   "execution_count": 246,
   "id": "2a584ef3-9a8b-44a3-aa2b-ad75ea431fb3",
   "metadata": {},
   "outputs": [
    {
     "data": {
      "text/plain": [
       "const    7.032594\n",
       "TV       0.047537\n",
       "dtype: float64"
      ]
     },
     "execution_count": 246,
     "metadata": {},
     "output_type": "execute_result"
    }
   ],
   "source": [
    "model.params #buradaki const hiçbir TV satılmazsa kazanılacak sales\n",
    "             #TV ise 1 birim TV satışının sales e katkısı,yani 1 tane TV satılınca ne kadar kazanç elde edilecek\n"
   ]
  },
  {
   "cell_type": "code",
   "execution_count": 247,
   "id": "a6f6fb94-cb6b-49cd-a83d-dbd504ccf78e",
   "metadata": {},
   "outputs": [
    {
     "data": {
      "text/html": [
       "<table class=\"simpletable\">\n",
       "<tr>\n",
       "    <td></td>       <th>coef</th>     <th>std err</th>      <th>t</th>      <th>P>|t|</th>  <th>[0.025</th>    <th>0.975]</th>  \n",
       "</tr>\n",
       "<tr>\n",
       "  <th>const</th> <td>    7.0326</td> <td>    0.458</td> <td>   15.360</td> <td> 0.000</td> <td>    6.130</td> <td>    7.935</td>\n",
       "</tr>\n",
       "<tr>\n",
       "  <th>TV</th>    <td>    0.0475</td> <td>    0.003</td> <td>   17.668</td> <td> 0.000</td> <td>    0.042</td> <td>    0.053</td>\n",
       "</tr>\n",
       "</table>"
      ],
      "text/plain": [
       "<class 'statsmodels.iolib.table.SimpleTable'>"
      ]
     },
     "execution_count": 247,
     "metadata": {},
     "output_type": "execute_result"
    }
   ],
   "source": [
    "model.summary().tables[1] #model.summary().tables ile yukarıda görmüş olduğun büyük table'ı 3 parçaya bölüp listeye alıyor"
   ]
  },
  {
   "cell_type": "code",
   "execution_count": 248,
   "id": "8fc99ec0-7c58-4c78-b072-d1a14e7f94e3",
   "metadata": {},
   "outputs": [
    {
     "data": {
      "text/plain": [
       "1.467389700194647e-42"
      ]
     },
     "execution_count": 248,
     "metadata": {},
     "output_type": "execute_result"
    }
   ],
   "source": [
    "model.f_pvalue"
   ]
  },
  {
   "cell_type": "code",
   "execution_count": 249,
   "id": "af1abc74-72eb-48fd-a217-be4eee3a0138",
   "metadata": {},
   "outputs": [
    {
     "name": "stdout",
     "output_type": "stream",
     "text": [
      "0.000\n"
     ]
    }
   ],
   "source": [
    "print(f\"{model.f_pvalue:.3f}\")"
   ]
  },
  {
   "cell_type": "code",
   "execution_count": 250,
   "id": "471978af-947e-4370-bcec-284a8be9226c",
   "metadata": {},
   "outputs": [
    {
     "data": {
      "text/plain": [
       "312.144994372713"
      ]
     },
     "execution_count": 250,
     "metadata": {},
     "output_type": "execute_result"
    }
   ],
   "source": [
    "model.fvalue #f istatistiği"
   ]
  },
  {
   "cell_type": "code",
   "execution_count": 251,
   "id": "edd74e86-a60b-47a1-a05f-f7e02f68fc60",
   "metadata": {},
   "outputs": [
    {
     "name": "stdout",
     "output_type": "stream",
     "text": [
      "312.145\n"
     ]
    }
   ],
   "source": [
    "print(f\"{model.fvalue:.3f}\")"
   ]
  },
  {
   "cell_type": "code",
   "execution_count": 252,
   "id": "5eebbb9c-311e-4b72-8b4f-202aae621ad8",
   "metadata": {},
   "outputs": [
    {
     "data": {
      "text/plain": [
       "3314.618166868649"
      ]
     },
     "execution_count": 252,
     "metadata": {},
     "output_type": "execute_result"
    }
   ],
   "source": [
    "model.mse_model #burada çıkacak olan değer modelimizin başarısı korkunç bir değer "
   ]
  },
  {
   "cell_type": "code",
   "execution_count": 253,
   "id": "ec88600e-4eaf-460b-bea2-e57c2ffefe91",
   "metadata": {},
   "outputs": [
    {
     "data": {
      "text/plain": [
       "0.6099148238341623"
      ]
     },
     "execution_count": 253,
     "metadata": {},
     "output_type": "execute_result"
    }
   ],
   "source": [
    "model.rsquared_adj #buradan çıkacak değer gerçek hayat için uygun bir değer"
   ]
  },
  {
   "cell_type": "code",
   "execution_count": 302,
   "id": "6d9c1964-a33a-453a-99b6-1f001d580707",
   "metadata": {},
   "outputs": [
    {
     "data": {
      "text/plain": [
       "0    17.970775\n",
       "1     9.147974\n",
       "2     7.850224\n",
       "3    14.234395\n",
       "4    15.627218\n",
       "dtype: float64"
      ]
     },
     "execution_count": 302,
     "metadata": {},
     "output_type": "execute_result"
    }
   ],
   "source": [
    "model.fittedvalues[:5] #bunlar modelimizin tahmin ettiği değerler"
   ]
  },
  {
   "cell_type": "code",
   "execution_count": 255,
   "id": "ff523fd4-e462-4c29-ac27-bb2bd6e2bc15",
   "metadata": {},
   "outputs": [
    {
     "data": {
      "text/plain": [
       "0    22.1\n",
       "1    10.4\n",
       "2     9.3\n",
       "3    18.5\n",
       "4    12.9\n",
       "Name: sales, dtype: float64"
      ]
     },
     "execution_count": 255,
     "metadata": {},
     "output_type": "execute_result"
    }
   ],
   "source": [
    "y[:5] #gerçek değerlerimiz"
   ]
  },
  {
   "cell_type": "markdown",
   "id": "a63c3e05-d6a8-4ea6-8ff2-4d7ae453e49a",
   "metadata": {},
   "source": [
    "**Modelimizin arka planda ürettiği denkleme bir göz atalım**"
   ]
  },
  {
   "cell_type": "code",
   "execution_count": 256,
   "id": "e54c6aa9-a6ff-4e32-8ac0-33ec6d7a6cd5",
   "metadata": {},
   "outputs": [
    {
     "name": "stdout",
     "output_type": "stream",
     "text": [
      "Sales = 7.03+ TV*0.05\n"
     ]
    }
   ],
   "source": [
    "print(\"Sales = \"+f\"{model.params[0]:.3}\"+\"+ TV*\"+f\"{model.params[1]:.1}\" )"
   ]
  },
  {
   "cell_type": "code",
   "execution_count": 257,
   "id": "2c54215c-8f61-4f4f-bff8-6a11f29dd771",
   "metadata": {},
   "outputs": [
    {
     "data": {
      "text/plain": [
       "Text(0, 0.5, 'Satış Sayısı')"
      ]
     },
     "execution_count": 257,
     "metadata": {},
     "output_type": "execute_result"
    },
    {
     "data": {
      "image/png": "[encoded data removed]",
      "text/plain": [
       "<Figure size 432x288 with 1 Axes>"
      ]
     },
     "metadata": {
      "needs_background": "light"
     },
     "output_type": "display_data"
    }
   ],
   "source": [
    "a=sns.regplot(x=df[\"TV\"],y=df[\"sales\"],color=\"b\",scatter=9)\n",
    "a.set_title(\"Model Denklemi: Sales = 7.03+TV*0.05\")\n",
    "a.set_xlabel(\"TV Harcamaları\")\n",
    "a.set_ylabel(\"Satış Sayısı\")"
   ]
  },
  {
   "cell_type": "markdown",
   "id": "4c833db0-b425-4379-9dcf-769a9829edd2",
   "metadata": {},
   "source": [
    "**SCIKITLEARN Makine Öğrenmesi Algoritmalarını Kullanacağımız Güzel Bir frameworkdür,(sadece linear regression için mi geçerli bilmiyorum ama) import statsmodels.api as sm yerini tutmaz ama Hemen hemen bütün makine öğrenmesi algoritmalarını kapsar**"
   ]
  },
  {
   "cell_type": "code",
   "execution_count": 294,
   "id": "88115ad5-b994-45fb-8c92-b242555a9dd8",
   "metadata": {},
   "outputs": [],
   "source": [
    "from sklearn.linear_model import LinearRegression"
   ]
  },
  {
   "cell_type": "code",
   "execution_count": 303,
   "id": "edc24444-bd0a-4057-abf8-6f49a018eab7",
   "metadata": {},
   "outputs": [
    {
     "data": {
      "text/plain": [
       "7.032593549127695"
      ]
     },
     "execution_count": 303,
     "metadata": {},
     "output_type": "execute_result"
    }
   ],
   "source": [
    "X=df[[\"TV\"]]\n",
    "y=df[\"sales\"]\n",
    "reg=LinearRegression() #object üretiyoruz\n",
    "model=reg.fit(X,y)\n",
    "model.intercept_"
   ]
  },
  {
   "cell_type": "code",
   "execution_count": 296,
   "id": "c8695747-9461-416f-a3f8-e409f7219bb8",
   "metadata": {},
   "outputs": [
    {
     "data": {
      "text/plain": [
       "array([0.04753664])"
      ]
     },
     "execution_count": 296,
     "metadata": {},
     "output_type": "execute_result"
    }
   ],
   "source": [
    "model.coef_ #b1 katsaysını almış olduk y=b0+b1x deki b1"
   ]
  },
  {
   "cell_type": "code",
   "execution_count": 261,
   "id": "84c65153-ca61-40d9-9730-e6e259a381ba",
   "metadata": {},
   "outputs": [
    {
     "data": {
      "text/plain": [
       "0.611875050850071"
      ]
     },
     "execution_count": 261,
     "metadata": {},
     "output_type": "execute_result"
    }
   ],
   "source": [
    "model.score(X,y)#bu score başarı tahmini değil R2 değeri"
   ]
  },
  {
   "cell_type": "code",
   "execution_count": 262,
   "id": "72287bbd-3e30-4d6b-92ac-10e5f00d125e",
   "metadata": {},
   "outputs": [
    {
     "data": {
      "text/plain": [
       "array([17.97077451,  9.14797405,  7.85022376, 14.23439457, 15.62721814,\n",
       "        7.44616232,  9.76595037, 12.74649773,  7.44140866, 16.53041431])"
      ]
     },
     "execution_count": 262,
     "metadata": {},
     "output_type": "execute_result"
    }
   ],
   "source": [
    "model.predict(X)[:10] #tahmin edilen değerler"
   ]
  },
  {
   "cell_type": "code",
   "execution_count": 263,
   "id": "d195f42c-eaf8-4e98-b480-c641c5055ab7",
   "metadata": {},
   "outputs": [
    {
     "data": {
      "text/plain": [
       "array([8.45869276])"
      ]
     },
     "execution_count": 263,
     "metadata": {},
     "output_type": "execute_result"
    }
   ],
   "source": [
    "model.predict([[30]]) #Örneğin 30 birim TV harcaması olduğunda satışların tahmini değeri ne olur?"
   ]
  },
  {
   "cell_type": "code",
   "execution_count": 264,
   "id": "a2cf47c1-05e5-4884-88ab-153867537195",
   "metadata": {},
   "outputs": [],
   "source": [
    "yeni_veri=[[5],[90],[200]]"
   ]
  },
  {
   "cell_type": "code",
   "execution_count": 265,
   "id": "da4e982b-5c94-4de9-8c44-920d7749fff5",
   "metadata": {},
   "outputs": [
    {
     "data": {
      "text/plain": [
       "array([ 7.27027675, 11.31089119, 16.53992164])"
      ]
     },
     "execution_count": 265,
     "metadata": {},
     "output_type": "execute_result"
    }
   ],
   "source": [
    "model.predict(yeni_veri)"
   ]
  },
  {
   "cell_type": "code",
   "execution_count": 266,
   "id": "dbc9fcdf-7aa1-4c19-b19b-d2396a52b999",
   "metadata": {},
   "outputs": [],
   "source": [
    "from sklearn.metrics import mean_squared_error,r2_score\n",
    "import statsmodels.formula.api as smf"
   ]
  },
  {
   "cell_type": "code",
   "execution_count": 304,
   "id": "bb150079-a82a-4dd7-8cf0-5f2b76dec2e7",
   "metadata": {},
   "outputs": [
    {
     "name": "stderr",
     "output_type": "stream",
     "text": [
      "c:\\users\\erkan\\appdata\\local\\programs\\python\\python39\\lib\\site-packages\\statsmodels\\tsa\\tsatools.py:142: FutureWarning: In a future version of pandas all arguments of concat except for the argument 'objs' will be keyword-only\n",
      "  x = pd.concat(x[::order], 1)\n"
     ]
    },
    {
     "data": {
      "text/plain": [
       "10.512652915656757"
      ]
     },
     "execution_count": 304,
     "metadata": {},
     "output_type": "execute_result"
    }
   ],
   "source": [
    "X=df[[\"TV\"]]\n",
    "X=sm.add_constant(X)\n",
    "y=df[\"sales\"]\n",
    "lm=sm.OLS(y,X) #lm =linear model OOP anlamında intialize işlemi gerçekleştirdik\n",
    "model=lm.fit()\n",
    "mse=mean_squared_error(y,model.fittedvalues)\n",
    "mse"
   ]
  },
  {
   "cell_type": "code",
   "execution_count": 268,
   "id": "f0b69358-67f8-4aed-b822-86f18bd63b64",
   "metadata": {},
   "outputs": [
    {
     "data": {
      "text/plain": [
       "10.512652915656757"
      ]
     },
     "execution_count": 268,
     "metadata": {},
     "output_type": "execute_result"
    }
   ],
   "source": [
    "mse #hata kareleri ortalama değeri"
   ]
  },
  {
   "cell_type": "code",
   "execution_count": 269,
   "id": "0b924a44-72ca-4a25-828f-3835e00780e7",
   "metadata": {},
   "outputs": [],
   "source": [
    "import numpy as np\n",
    "rmse=np.sqrt(mse)"
   ]
  },
  {
   "cell_type": "code",
   "execution_count": 270,
   "id": "9d493dc8-15ef-4ff3-81d8-86f48e9bd85d",
   "metadata": {},
   "outputs": [
    {
     "data": {
      "text/plain": [
       "3.2423221486546887"
      ]
     },
     "execution_count": 270,
     "metadata": {},
     "output_type": "execute_result"
    }
   ],
   "source": [
    "rmse"
   ]
  },
  {
   "cell_type": "code",
   "execution_count": 275,
   "id": "4a49b1c2-ca33-4027-92a3-9058a61e0bf2",
   "metadata": {},
   "outputs": [
    {
     "data": {
      "text/plain": [
       "array([17.97077451,  9.14797405,  7.85022376, 14.23439457, 15.62721814,\n",
       "        7.44616232,  9.76595037, 12.74649773,  7.44140866, 16.53041431])"
      ]
     },
     "execution_count": 275,
     "metadata": {},
     "output_type": "execute_result"
    }
   ],
   "source": [
    "reg.predict(X)[:10]"
   ]
  },
  {
   "cell_type": "code",
   "execution_count": 276,
   "id": "ac7785d3-5463-456c-9b39-dc155c0b9079",
   "metadata": {},
   "outputs": [
    {
     "data": {
      "text/plain": [
       "0    22.1\n",
       "1    10.4\n",
       "2     9.3\n",
       "3    18.5\n",
       "4    12.9\n",
       "5     7.2\n",
       "6    11.8\n",
       "7    13.2\n",
       "8     4.8\n",
       "9    10.6\n",
       "Name: sales, dtype: float64"
      ]
     },
     "execution_count": 276,
     "metadata": {},
     "output_type": "execute_result"
    }
   ],
   "source": [
    "y[:10]"
   ]
  },
  {
   "cell_type": "code",
   "execution_count": 279,
   "id": "e37feaad-071d-481e-aee7-3e111339593d",
   "metadata": {},
   "outputs": [],
   "source": [
    "k_t=pd.DataFrame({\"gercek_y\":y[:10],\n",
    "                   \"tahmin_y\":reg.predict(X)[:10]})"
   ]
  },
  {
   "cell_type": "code",
   "execution_count": 280,
   "id": "79787bf0-d9ad-4cb3-9b1c-d6e2fb827724",
   "metadata": {},
   "outputs": [
    {
     "data": {
      "text/html": [
       "<div>\n",
       "<style scoped>\n",
       "    .dataframe tbody tr th:only-of-type {\n",
       "        vertical-align: middle;\n",
       "    }\n",
       "\n",
       "    .dataframe tbody tr th {\n",
       "        vertical-align: top;\n",
       "    }\n",
       "\n",
       "    .dataframe thead th {\n",
       "        text-align: right;\n",
       "    }\n",
       "</style>\n",
       "<table border=\"1\" class=\"dataframe\">\n",
       "  <thead>\n",
       "    <tr style=\"text-align: right;\">\n",
       "      <th></th>\n",
       "      <th>gercek_y</th>\n",
       "      <th>tahmin_y</th>\n",
       "    </tr>\n",
       "  </thead>\n",
       "  <tbody>\n",
       "    <tr>\n",
       "      <th>0</th>\n",
       "      <td>22.1</td>\n",
       "      <td>17.970775</td>\n",
       "    </tr>\n",
       "    <tr>\n",
       "      <th>1</th>\n",
       "      <td>10.4</td>\n",
       "      <td>9.147974</td>\n",
       "    </tr>\n",
       "    <tr>\n",
       "      <th>2</th>\n",
       "      <td>9.3</td>\n",
       "      <td>7.850224</td>\n",
       "    </tr>\n",
       "    <tr>\n",
       "      <th>3</th>\n",
       "      <td>18.5</td>\n",
       "      <td>14.234395</td>\n",
       "    </tr>\n",
       "    <tr>\n",
       "      <th>4</th>\n",
       "      <td>12.9</td>\n",
       "      <td>15.627218</td>\n",
       "    </tr>\n",
       "    <tr>\n",
       "      <th>5</th>\n",
       "      <td>7.2</td>\n",
       "      <td>7.446162</td>\n",
       "    </tr>\n",
       "    <tr>\n",
       "      <th>6</th>\n",
       "      <td>11.8</td>\n",
       "      <td>9.765950</td>\n",
       "    </tr>\n",
       "    <tr>\n",
       "      <th>7</th>\n",
       "      <td>13.2</td>\n",
       "      <td>12.746498</td>\n",
       "    </tr>\n",
       "    <tr>\n",
       "      <th>8</th>\n",
       "      <td>4.8</td>\n",
       "      <td>7.441409</td>\n",
       "    </tr>\n",
       "    <tr>\n",
       "      <th>9</th>\n",
       "      <td>10.6</td>\n",
       "      <td>16.530414</td>\n",
       "    </tr>\n",
       "  </tbody>\n",
       "</table>\n",
       "</div>"
      ],
      "text/plain": [
       "   gercek_y   tahmin_y\n",
       "0      22.1  17.970775\n",
       "1      10.4   9.147974\n",
       "2       9.3   7.850224\n",
       "3      18.5  14.234395\n",
       "4      12.9  15.627218\n",
       "5       7.2   7.446162\n",
       "6      11.8   9.765950\n",
       "7      13.2  12.746498\n",
       "8       4.8   7.441409\n",
       "9      10.6  16.530414"
      ]
     },
     "execution_count": 280,
     "metadata": {},
     "output_type": "execute_result"
    }
   ],
   "source": [
    "k_t"
   ]
  },
  {
   "cell_type": "code",
   "execution_count": 281,
   "id": "5f9d93c5-9e30-4d9b-825f-bf148b531075",
   "metadata": {},
   "outputs": [],
   "source": [
    "k_t[\"hata\"]=k_t[\"gercek_y\"]-k_t[\"tahmin_y\"]"
   ]
  },
  {
   "cell_type": "code",
   "execution_count": 282,
   "id": "5538b28d-d7a0-41df-9a79-b0d974f8a1fd",
   "metadata": {},
   "outputs": [
    {
     "data": {
      "text/html": [
       "<div>\n",
       "<style scoped>\n",
       "    .dataframe tbody tr th:only-of-type {\n",
       "        vertical-align: middle;\n",
       "    }\n",
       "\n",
       "    .dataframe tbody tr th {\n",
       "        vertical-align: top;\n",
       "    }\n",
       "\n",
       "    .dataframe thead th {\n",
       "        text-align: right;\n",
       "    }\n",
       "</style>\n",
       "<table border=\"1\" class=\"dataframe\">\n",
       "  <thead>\n",
       "    <tr style=\"text-align: right;\">\n",
       "      <th></th>\n",
       "      <th>gercek_y</th>\n",
       "      <th>tahmin_y</th>\n",
       "      <th>hata</th>\n",
       "    </tr>\n",
       "  </thead>\n",
       "  <tbody>\n",
       "    <tr>\n",
       "      <th>0</th>\n",
       "      <td>22.1</td>\n",
       "      <td>17.970775</td>\n",
       "      <td>4.129225</td>\n",
       "    </tr>\n",
       "    <tr>\n",
       "      <th>1</th>\n",
       "      <td>10.4</td>\n",
       "      <td>9.147974</td>\n",
       "      <td>1.252026</td>\n",
       "    </tr>\n",
       "    <tr>\n",
       "      <th>2</th>\n",
       "      <td>9.3</td>\n",
       "      <td>7.850224</td>\n",
       "      <td>1.449776</td>\n",
       "    </tr>\n",
       "    <tr>\n",
       "      <th>3</th>\n",
       "      <td>18.5</td>\n",
       "      <td>14.234395</td>\n",
       "      <td>4.265605</td>\n",
       "    </tr>\n",
       "    <tr>\n",
       "      <th>4</th>\n",
       "      <td>12.9</td>\n",
       "      <td>15.627218</td>\n",
       "      <td>-2.727218</td>\n",
       "    </tr>\n",
       "    <tr>\n",
       "      <th>5</th>\n",
       "      <td>7.2</td>\n",
       "      <td>7.446162</td>\n",
       "      <td>-0.246162</td>\n",
       "    </tr>\n",
       "    <tr>\n",
       "      <th>6</th>\n",
       "      <td>11.8</td>\n",
       "      <td>9.765950</td>\n",
       "      <td>2.034050</td>\n",
       "    </tr>\n",
       "    <tr>\n",
       "      <th>7</th>\n",
       "      <td>13.2</td>\n",
       "      <td>12.746498</td>\n",
       "      <td>0.453502</td>\n",
       "    </tr>\n",
       "    <tr>\n",
       "      <th>8</th>\n",
       "      <td>4.8</td>\n",
       "      <td>7.441409</td>\n",
       "      <td>-2.641409</td>\n",
       "    </tr>\n",
       "    <tr>\n",
       "      <th>9</th>\n",
       "      <td>10.6</td>\n",
       "      <td>16.530414</td>\n",
       "      <td>-5.930414</td>\n",
       "    </tr>\n",
       "  </tbody>\n",
       "</table>\n",
       "</div>"
      ],
      "text/plain": [
       "   gercek_y   tahmin_y      hata\n",
       "0      22.1  17.970775  4.129225\n",
       "1      10.4   9.147974  1.252026\n",
       "2       9.3   7.850224  1.449776\n",
       "3      18.5  14.234395  4.265605\n",
       "4      12.9  15.627218 -2.727218\n",
       "5       7.2   7.446162 -0.246162\n",
       "6      11.8   9.765950  2.034050\n",
       "7      13.2  12.746498  0.453502\n",
       "8       4.8   7.441409 -2.641409\n",
       "9      10.6  16.530414 -5.930414"
      ]
     },
     "execution_count": 282,
     "metadata": {},
     "output_type": "execute_result"
    }
   ],
   "source": [
    "k_t"
   ]
  },
  {
   "cell_type": "code",
   "execution_count": 286,
   "id": "5dc652c2-e1b6-4b7d-8885-2e5ad4b23fd9",
   "metadata": {},
   "outputs": [],
   "source": [
    "k_t[\"hata_kare\"]=k_t[\"hata\"]**2 #hata kareleri"
   ]
  },
  {
   "cell_type": "code",
   "execution_count": 287,
   "id": "8f548f76-4bff-4410-a97f-473b2d354830",
   "metadata": {},
   "outputs": [
    {
     "data": {
      "text/html": [
       "<div>\n",
       "<style scoped>\n",
       "    .dataframe tbody tr th:only-of-type {\n",
       "        vertical-align: middle;\n",
       "    }\n",
       "\n",
       "    .dataframe tbody tr th {\n",
       "        vertical-align: top;\n",
       "    }\n",
       "\n",
       "    .dataframe thead th {\n",
       "        text-align: right;\n",
       "    }\n",
       "</style>\n",
       "<table border=\"1\" class=\"dataframe\">\n",
       "  <thead>\n",
       "    <tr style=\"text-align: right;\">\n",
       "      <th></th>\n",
       "      <th>gercek_y</th>\n",
       "      <th>tahmin_y</th>\n",
       "      <th>hata</th>\n",
       "      <th>hata_kare</th>\n",
       "    </tr>\n",
       "  </thead>\n",
       "  <tbody>\n",
       "    <tr>\n",
       "      <th>0</th>\n",
       "      <td>22.1</td>\n",
       "      <td>17.970775</td>\n",
       "      <td>4.129225</td>\n",
       "      <td>17.050503</td>\n",
       "    </tr>\n",
       "    <tr>\n",
       "      <th>1</th>\n",
       "      <td>10.4</td>\n",
       "      <td>9.147974</td>\n",
       "      <td>1.252026</td>\n",
       "      <td>1.567569</td>\n",
       "    </tr>\n",
       "    <tr>\n",
       "      <th>2</th>\n",
       "      <td>9.3</td>\n",
       "      <td>7.850224</td>\n",
       "      <td>1.449776</td>\n",
       "      <td>2.101851</td>\n",
       "    </tr>\n",
       "    <tr>\n",
       "      <th>3</th>\n",
       "      <td>18.5</td>\n",
       "      <td>14.234395</td>\n",
       "      <td>4.265605</td>\n",
       "      <td>18.195390</td>\n",
       "    </tr>\n",
       "    <tr>\n",
       "      <th>4</th>\n",
       "      <td>12.9</td>\n",
       "      <td>15.627218</td>\n",
       "      <td>-2.727218</td>\n",
       "      <td>7.437719</td>\n",
       "    </tr>\n",
       "    <tr>\n",
       "      <th>5</th>\n",
       "      <td>7.2</td>\n",
       "      <td>7.446162</td>\n",
       "      <td>-0.246162</td>\n",
       "      <td>0.060596</td>\n",
       "    </tr>\n",
       "    <tr>\n",
       "      <th>6</th>\n",
       "      <td>11.8</td>\n",
       "      <td>9.765950</td>\n",
       "      <td>2.034050</td>\n",
       "      <td>4.137358</td>\n",
       "    </tr>\n",
       "    <tr>\n",
       "      <th>7</th>\n",
       "      <td>13.2</td>\n",
       "      <td>12.746498</td>\n",
       "      <td>0.453502</td>\n",
       "      <td>0.205664</td>\n",
       "    </tr>\n",
       "    <tr>\n",
       "      <th>8</th>\n",
       "      <td>4.8</td>\n",
       "      <td>7.441409</td>\n",
       "      <td>-2.641409</td>\n",
       "      <td>6.977040</td>\n",
       "    </tr>\n",
       "    <tr>\n",
       "      <th>9</th>\n",
       "      <td>10.6</td>\n",
       "      <td>16.530414</td>\n",
       "      <td>-5.930414</td>\n",
       "      <td>35.169814</td>\n",
       "    </tr>\n",
       "  </tbody>\n",
       "</table>\n",
       "</div>"
      ],
      "text/plain": [
       "   gercek_y   tahmin_y      hata  hata_kare\n",
       "0      22.1  17.970775  4.129225  17.050503\n",
       "1      10.4   9.147974  1.252026   1.567569\n",
       "2       9.3   7.850224  1.449776   2.101851\n",
       "3      18.5  14.234395  4.265605  18.195390\n",
       "4      12.9  15.627218 -2.727218   7.437719\n",
       "5       7.2   7.446162 -0.246162   0.060596\n",
       "6      11.8   9.765950  2.034050   4.137358\n",
       "7      13.2  12.746498  0.453502   0.205664\n",
       "8       4.8   7.441409 -2.641409   6.977040\n",
       "9      10.6  16.530414 -5.930414  35.169814"
      ]
     },
     "execution_count": 287,
     "metadata": {},
     "output_type": "execute_result"
    }
   ],
   "source": [
    "k_t"
   ]
  },
  {
   "cell_type": "code",
   "execution_count": 314,
   "id": "04b728f2-b937-4785-994d-989389b3b0aa",
   "metadata": {
    "tags": []
   },
   "outputs": [
    {
     "data": {
      "text/plain": [
       "92.90350329638102"
      ]
     },
     "execution_count": 314,
     "metadata": {},
     "output_type": "execute_result"
    }
   ],
   "source": [
    "np.sum(k_t[\"hata_kare\"])"
   ]
  },
  {
   "cell_type": "code",
   "execution_count": 288,
   "id": "9bf38bdc-094d-42e9-ad56-0dd9e8c8ad4f",
   "metadata": {},
   "outputs": [
    {
     "data": {
      "text/plain": [
       "9.290350329638102"
      ]
     },
     "execution_count": 288,
     "metadata": {},
     "output_type": "execute_result"
    }
   ],
   "source": [
    "np.mean(k_t[\"hata_kare\"])#hata kare ortalaması"
   ]
  },
  {
   "cell_type": "code",
   "execution_count": 291,
   "id": "ed80e4e7-aac2-4820-92c4-c662fa1c1bab",
   "metadata": {},
   "outputs": [
    {
     "data": {
      "text/plain": [
       "3.048007599996775"
      ]
     },
     "execution_count": 291,
     "metadata": {},
     "output_type": "execute_result"
    }
   ],
   "source": [
    "np.sqrt(np.mean(k_t[\"hata_kare\"])) #hata kare ortalaması karekökü"
   ]
  },
  {
   "cell_type": "code",
   "execution_count": 309,
   "id": "435be2ee-6d33-4089-9cec-09d5f1654919",
   "metadata": {},
   "outputs": [
    {
     "data": {
      "text/plain": [
       "0    4.129225\n",
       "1    1.252026\n",
       "2    1.449776\n",
       "3    4.265605\n",
       "4   -2.727218\n",
       "5   -0.246162\n",
       "6    2.034050\n",
       "7    0.453502\n",
       "8   -2.641409\n",
       "9   -5.930414\n",
       "dtype: float64"
      ]
     },
     "execution_count": 309,
     "metadata": {},
     "output_type": "execute_result"
    }
   ],
   "source": [
    "model.resid[:10] #bu da bizim yukarıda elle bulmuş olduğumuz hataların(artıklarınİ) otomatik bulunmuş hali \n"
   ]
  },
  {
   "cell_type": "code",
   "execution_count": 313,
   "id": "6aebab62-a9ec-4d52-a296-131379ed082a",
   "metadata": {},
   "outputs": [
    {
     "data": {
      "text/plain": [
       "[<matplotlib.lines.Line2D at 0x244a4e93f10>]"
      ]
     },
     "execution_count": 313,
     "metadata": {},
     "output_type": "execute_result"
    },
    {
     "data": {
      "image/png": "[encoded data removed]",
      "text/plain": [
       "<Figure size 432x288 with 1 Axes>"
      ]
     },
     "metadata": {
      "needs_background": "light"
     },
     "output_type": "display_data"
    }
   ],
   "source": [
    "import matplotlib.pyplot as plt\n",
    "plt.plot(model.resid) #mesela burada 8-7 civarına bir bakmak lazım sebebini anlamak lazım"
   ]
  },
  {
   "cell_type": "code",
   "execution_count": null,
   "id": "c589a716-f6af-4c57-b5e9-77577b9549c6",
   "metadata": {},
   "outputs": [],
   "source": []
  }
 ],
 "metadata": {
  "kernelspec": {
   "display_name": "Python 3 (ipykernel)",
   "language": "python",
   "name": "python3"
  },
  "language_info": {
   "codemirror_mode": {
    "name": "ipython",
    "version": 3
   },
   "file_extension": ".py",
   "mimetype": "text/x-python",
   "name": "python",
   "nbconvert_exporter": "python",
   "pygments_lexer": "ipython3",
   "version": "3.9.6"
  }
 },
 "nbformat": 4,
 "nbformat_minor": 5
}
